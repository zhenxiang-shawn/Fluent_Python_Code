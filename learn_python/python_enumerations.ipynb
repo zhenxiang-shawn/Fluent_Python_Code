{
 "cells": [
  {
   "cell_type": "code",
   "execution_count": 3,
   "metadata": {},
   "outputs": [
    {
     "name": "stdout",
     "output_type": "stream",
     "text": [
      "0 2 1\n",
      "<class 'int'>\n"
     ]
    }
   ],
   "source": [
    "# Easiest way to use enumeration-like structure in python.\n",
    "# *Just assign int values to each variable.\n",
    "RED, GREEN, YELLOW = range(3)\n",
    "print(RED, YELLOW, GREEN)\n",
    "print(type(GREEN))\n"
   ]
  },
  {
   "cell_type": "markdown",
   "metadata": {},
   "source": [
    "\n"
   ]
  },
  {
   "cell_type": "code",
   "execution_count": 5,
   "metadata": {},
   "outputs": [
    {
     "name": "stdout",
     "output_type": "stream",
     "text": [
      "[<Day.MONDAY: 1>, <Day.TUESDAY: 2>, <Day.WEDNESDAY: 3>, <Day.THURSDAY: 4>, <Day.FRIDAY: 5>, <Day.SATURDAY: 6>, <Day.SUNDAY: 7>]\n",
      "<enum 'Day'>\n"
     ]
    }
   ],
   "source": [
    "from enum import Enum\n",
    "class Day(Enum):\n",
    "    MONDAY = 1\n",
    "    TUESDAY = 2\n",
    "    WEDNESDAY = 3\n",
    "    THURSDAY = 4\n",
    "    FRIDAY = 5\n",
    "    SATURDAY = 6\n",
    "    SUNDAY = 7\n",
    "\n",
    "a_day = Day.MONDAY\n",
    "print(list(Day))\n",
    "print(type(a_day))"
   ]
  },
  {
   "cell_type": "markdown",
   "metadata": {},
   "source": [
    "当然也可以用 `range` 来在`Enum`的class里创建."
   ]
  },
  {
   "cell_type": "code",
   "execution_count": 6,
   "metadata": {},
   "outputs": [
    {
     "name": "stdout",
     "output_type": "stream",
     "text": [
      "[<Season.WINTER: 1>, <Season.SPRING: 2>, <Season.SUMMER: 3>, <Season.FALL: 4>]\n"
     ]
    }
   ],
   "source": [
    "class Season(Enum):\n",
    "    WINTER, SPRING, SUMMER, FALL = range(1, 5)\n",
    "print(list(Season))"
   ]
  },
  {
   "cell_type": "markdown",
   "metadata": {},
   "source": [
    "除此以外,`Enum`的class还可以继承另外一个Enumeration class. 代码如下:"
   ]
  },
  {
   "cell_type": "code",
   "execution_count": null,
   "metadata": {},
   "outputs": [],
   "source": [
    "from enum import Enum\n",
    "import string\n",
    "\n",
    "class BaseTextEnum(Enum):\n",
    "    def as_list(self):\n",
    "        try:\n",
    "            return list(self.value)\n",
    "        except TypeError:\n",
    "            return [str(self.value)]\n",
    "\n",
    "\n",
    "class Alphabet(BaseTextEnum):\n",
    "    LOWERCASE = string.ascii_lowercase\n",
    "    UPPERCASE = string.ascii_uppercase\n",
    "\n",
    "\n",
    "print(Alphabet.LOWERCASE.as_list())"
   ]
  },
  {
   "cell_type": "markdown",
   "metadata": {},
   "source": []
  },
  {
   "cell_type": "markdown",
   "metadata": {},
   "source": []
  }
 ],
 "metadata": {
  "interpreter": {
   "hash": "b394d1a43adc3e2518529b3243a8fd0df6414d90650d36267735f4ed247dd166"
  },
  "kernelspec": {
   "display_name": "Python 3.9.7 64-bit ('base': conda)",
   "language": "python",
   "name": "python3"
  },
  "language_info": {
   "codemirror_mode": {
    "name": "ipython",
    "version": 3
   },
   "file_extension": ".py",
   "mimetype": "text/x-python",
   "name": "python",
   "nbconvert_exporter": "python",
   "pygments_lexer": "ipython3",
   "version": "3.9.7"
  },
  "orig_nbformat": 4
 },
 "nbformat": 4,
 "nbformat_minor": 2
}
