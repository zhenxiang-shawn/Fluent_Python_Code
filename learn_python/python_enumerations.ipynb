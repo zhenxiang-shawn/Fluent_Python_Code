{
 "cells": [
  {
   "cell_type": "code",
   "execution_count": 3,
   "metadata": {},
   "outputs": [
    {
     "name": "stdout",
     "output_type": "stream",
     "text": [
      "0 2 1\n",
      "<class 'int'>\n"
     ]
    }
   ],
   "source": [
    "# Easiest way to use enumeration-like structure in python.\n",
    "# *Just assign int values to each variable.\n",
    "RED, GREEN, YELLOW = range(3)\n",
    "print(RED, YELLOW, GREEN)\n",
    "print(type(GREEN))\n"
   ]
  },
  {
   "cell_type": "markdown",
   "metadata": {},
   "source": [
    "\n"
   ]
  },
  {
   "cell_type": "code",
   "execution_count": 5,
   "metadata": {},
   "outputs": [
    {
     "name": "stdout",
     "output_type": "stream",
     "text": [
      "[<Day.MONDAY: 1>, <Day.TUESDAY: 2>, <Day.WEDNESDAY: 3>, <Day.THURSDAY: 4>, <Day.FRIDAY: 5>, <Day.SATURDAY: 6>, <Day.SUNDAY: 7>]\n",
      "<enum 'Day'>\n"
     ]
    }
   ],
   "source": [
    "from enum import Enum\n",
    "class Day(Enum):\n",
    "    MONDAY = 1\n",
    "    TUESDAY = 2\n",
    "    WEDNESDAY = 3\n",
    "    THURSDAY = 4\n",
    "    FRIDAY = 5\n",
    "    SATURDAY = 6\n",
    "    SUNDAY = 7\n",
    "\n",
    "a_day = Day.MONDAY\n",
    "print(list(Day))\n",
    "print(type(a_day))"
   ]
  },
  {
   "cell_type": "markdown",
   "metadata": {},
   "source": [
    "当然也可以用 `range` 来在`Enum`的class里创建."
   ]
  },
  {
   "cell_type": "code",
   "execution_count": 6,
   "metadata": {},
   "outputs": [
    {
     "name": "stdout",
     "output_type": "stream",
     "text": [
      "[<Season.WINTER: 1>, <Season.SPRING: 2>, <Season.SUMMER: 3>, <Season.FALL: 4>]\n"
     ]
    }
   ],
   "source": [
    "class Season(Enum):\n",
    "    WINTER, SPRING, SUMMER, FALL = range(1, 5)\n",
    "print(list(Season))"
   ]
  },
  {
   "cell_type": "markdown",
   "metadata": {},
   "source": [
    "除此以外,`Enum`的class还可以继承另外一个Enumeration class. 代码如下:"
   ]
  },
  {
   "cell_type": "code",
   "execution_count": 2,
   "metadata": {},
   "outputs": [
    {
     "name": "stdout",
     "output_type": "stream",
     "text": [
      "['a', 'b', 'c', 'd', 'e', 'f', 'g', 'h', 'i', 'j', 'k', 'l', 'm', 'n', 'o', 'p', 'q', 'r', 's', 't', 'u', 'v', 'w', 'x', 'y', 'z']\n"
     ]
    }
   ],
   "source": [
    "from enum import Enum\n",
    "import string\n",
    "\n",
    "class BaseTextEnum(Enum):\n",
    "    def as_list(self):\n",
    "        try:\n",
    "            return list(self.value)\n",
    "        except TypeError:\n",
    "            return [str(self.value)]\n",
    "\n",
    "\n",
    "class Alphabet(BaseTextEnum):\n",
    "    LOWERCASE = string.ascii_lowercase\n",
    "    UPPERCASE = string.ascii_uppercase\n",
    "\n",
    "\n",
    "print(Alphabet.LOWERCASE.as_list())"
   ]
  },
  {
   "cell_type": "markdown",
   "metadata": {},
   "source": []
  },
  {
   "cell_type": "code",
   "execution_count": 3,
   "metadata": {},
   "outputs": [
    {
     "name": "stdout",
     "output_type": "stream",
     "text": [
      "[<HTTPStatusCode.OK: 200>, <HTTPStatusCode.CREATED: 201>, <HTTPStatusCode.BAD_REQUEST: 400>, <HTTPStatusCode.NOT_FOUND: 404>, <HTTPStatusCode.SERVER_ERROR: 500>]\n"
     ]
    }
   ],
   "source": [
    "HTTPStatusCode = Enum(\n",
    "    value=\"HTTPStatusCode\",\n",
    "    names=[\n",
    "        (\"OK\", 200),\n",
    "        (\"CREATED\", 201),\n",
    "        (\"BAD_REQUEST\", 400),\n",
    "        (\"NOT_FOUND\", 404),\n",
    "        (\"SERVER_ERROR\", 500),\n",
    "    ],\n",
    ")\n",
    "\n",
    "print(list(HTTPStatusCode))"
   ]
  },
  {
   "cell_type": "markdown",
   "metadata": {},
   "source": [
    "也可以用`auto()` 方法来自动设置"
   ]
  },
  {
   "cell_type": "code",
   "execution_count": 9,
   "metadata": {},
   "outputs": [
    {
     "name": "stdout",
     "output_type": "stream",
     "text": [
      "[<CardinalDirection.NORTH: 'N'>, <CardinalDirection.SOUTH: 'S'>, <CardinalDirection.EAST: 'E'>, <CardinalDirection.WEST: 'W'>]\n",
      "[<Day.MONDAY: 1>, <Day.TUESDAY: 2>, <Day.WEDNESDAY: 3>, <Day.THURSDAY: 4>, <Day.FRIDAY: 5>, <Day.SATURDAY: 6>, <Day.SUNDAY: 7>]\n"
     ]
    }
   ],
   "source": [
    "from enum import Enum, auto\n",
    "\n",
    "class CardinalDirection(Enum):\n",
    "    def _generate_next_value_(name, start, count, last_values):\n",
    "         return name[0]\n",
    "    NORTH = auto()\n",
    "    SOUTH = auto()\n",
    "    EAST = auto()\n",
    "    WEST = auto()\n",
    "\n",
    "print(list(CardinalDirection))\n",
    "\n",
    "class Day(Enum):\n",
    "    MONDAY = auto()\n",
    "    TUESDAY = auto()\n",
    "    WEDNESDAY = 3\n",
    "    THURSDAY = auto()\n",
    "    FRIDAY = auto()\n",
    "    SATURDAY = auto()\n",
    "    SUNDAY = 7\n",
    "\n",
    "print(list(Day))"
   ]
  },
  {
   "cell_type": "markdown",
   "metadata": {},
   "source": [
    "Enmu也可以用来创建别名,类似字典."
   ]
  },
  {
   "cell_type": "code",
   "execution_count": 10,
   "metadata": {},
   "outputs": [
    {
     "name": "stdout",
     "output_type": "stream",
     "text": [
      "[<OperatingSystem.UBUNTU: 'linux'>, <OperatingSystem.MACOS: 'darwin'>, <OperatingSystem.WINDOWS: 'win'>]\n",
      "--------------------------\n",
      "[('UBUNTU', <OperatingSystem.UBUNTU: 'linux'>), ('MACOS', <OperatingSystem.MACOS: 'darwin'>), ('WINDOWS', <OperatingSystem.WINDOWS: 'win'>), ('DEBIAN', <OperatingSystem.UBUNTU: 'linux'>)]\n"
     ]
    }
   ],
   "source": [
    "class OperatingSystem(Enum):\n",
    "    UBUNTU = \"linux\"\n",
    "    MACOS = \"darwin\"\n",
    "    WINDOWS = \"win\"\n",
    "    DEBIAN = \"linux\"\n",
    "\n",
    "# print without alias\n",
    "print(list(OperatingSystem))\n",
    "print('--------------------------')\n",
    "# print with alias\n",
    "print(list(OperatingSystem.__members__.items()))"
   ]
  },
  {
   "cell_type": "markdown",
   "metadata": {},
   "source": []
  },
  {
   "cell_type": "markdown",
   "metadata": {},
   "source": [
    "有时为了确保内容/值是唯一的,可以用 `@unique` 来标记这个Enmu的class."
   ]
  },
  {
   "cell_type": "code",
   "execution_count": 11,
   "metadata": {},
   "outputs": [
    {
     "ename": "ValueError",
     "evalue": "duplicate values found in <enum 'OperatingSystem'>: DEBIAN -> UBUNTU",
     "output_type": "error",
     "traceback": [
      "\u001b[0;31m---------------------------------------------------------------------------\u001b[0m",
      "\u001b[0;31mValueError\u001b[0m                                Traceback (most recent call last)",
      "\u001b[0;32m/var/folders/cq/s543lk6j37ng5mvv5m2s8t_c0000gn/T/ipykernel_4792/260379029.py\u001b[0m in \u001b[0;36m<module>\u001b[0;34m\u001b[0m\n\u001b[1;32m      2\u001b[0m \u001b[0;34m\u001b[0m\u001b[0m\n\u001b[1;32m      3\u001b[0m \u001b[0;34m@\u001b[0m\u001b[0munique\u001b[0m\u001b[0;34m\u001b[0m\u001b[0;34m\u001b[0m\u001b[0m\n\u001b[0;32m----> 4\u001b[0;31m \u001b[0;32mclass\u001b[0m \u001b[0mOperatingSystem\u001b[0m\u001b[0;34m(\u001b[0m\u001b[0mEnum\u001b[0m\u001b[0;34m)\u001b[0m\u001b[0;34m:\u001b[0m\u001b[0;34m\u001b[0m\u001b[0;34m\u001b[0m\u001b[0m\n\u001b[0m\u001b[1;32m      5\u001b[0m     \u001b[0mUBUNTU\u001b[0m \u001b[0;34m=\u001b[0m \u001b[0;34m\"linux\"\u001b[0m\u001b[0;34m\u001b[0m\u001b[0;34m\u001b[0m\u001b[0m\n\u001b[1;32m      6\u001b[0m     \u001b[0mMACOS\u001b[0m \u001b[0;34m=\u001b[0m \u001b[0;34m\"darwin\"\u001b[0m\u001b[0;34m\u001b[0m\u001b[0;34m\u001b[0m\u001b[0m\n",
      "\u001b[0;32m~/opt/anaconda3/lib/python3.9/enum.py\u001b[0m in \u001b[0;36munique\u001b[0;34m(enumeration)\u001b[0m\n\u001b[1;32m   1011\u001b[0m         alias_details = ', '.join(\n\u001b[1;32m   1012\u001b[0m                 [\"%s -> %s\" % (alias, name) for (alias, name) in duplicates])\n\u001b[0;32m-> 1013\u001b[0;31m         raise ValueError('duplicate values found in %r: %s' %\n\u001b[0m\u001b[1;32m   1014\u001b[0m                 (enumeration, alias_details))\n\u001b[1;32m   1015\u001b[0m     \u001b[0;32mreturn\u001b[0m \u001b[0menumeration\u001b[0m\u001b[0;34m\u001b[0m\u001b[0;34m\u001b[0m\u001b[0m\n",
      "\u001b[0;31mValueError\u001b[0m: duplicate values found in <enum 'OperatingSystem'>: DEBIAN -> UBUNTU"
     ]
    }
   ],
   "source": [
    "from enum import unique\n",
    "\n",
    "@unique\n",
    "class OperatingSystem(Enum):\n",
    "    UBUNTU = \"linux\"\n",
    "    MACOS = \"darwin\"\n",
    "    WINDOWS = \"win\"\n",
    "    # It will return error because the value is duplicated.\n",
    "    DEBIAN = \"linux\"\n"
   ]
  },
  {
   "cell_type": "markdown",
   "metadata": {},
   "source": [
    "有三种方式可以用Enumeration Class"
   ]
  },
  {
   "cell_type": "code",
   "execution_count": 16,
   "metadata": {},
   "outputs": [
    {
     "name": "stdout",
     "output_type": "stream",
     "text": [
      "CardinalDirection.NORTH\n",
      "CardinalDirection.NORTH\n",
      "CardinalDirection.NORTH\n",
      "EAST: E\n"
     ]
    }
   ],
   "source": [
    "class CardinalDirection(Enum):\n",
    "    NORTH = \"N\"\n",
    "    SOUTH = \"S\"\n",
    "    EAST = \"E\"\n",
    "    WEST = \"W\"\n",
    "\n",
    "print(CardinalDirection.NORTH)\n",
    "print(CardinalDirection['NORTH'])\n",
    "print(CardinalDirection(\"N\"))\n",
    "print(f'{CardinalDirection.EAST.name}: {CardinalDirection.EAST.value}')\n"
   ]
  },
  {
   "cell_type": "markdown",
   "metadata": {},
   "source": []
  },
  {
   "cell_type": "code",
   "execution_count": 18,
   "metadata": {},
   "outputs": [
    {
     "name": "stdout",
     "output_type": "stream",
     "text": [
      "You can continue!\n",
      "You must stop!\n"
     ]
    }
   ],
   "source": [
    "from enum import Enum\n",
    "\n",
    "class Semaphore(Enum):\n",
    "    RED = 1\n",
    "    YELLOW = 2\n",
    "    GREEN = 3\n",
    "\n",
    "def handle_semaphore(light):\n",
    "    if light is Semaphore.RED:\n",
    "        print(\"You must stop!\")\n",
    "    elif light is Semaphore.YELLOW:\n",
    "        print(\"Light will change to red, be careful!\")\n",
    "    elif light is Semaphore.GREEN:\n",
    "        print(\"You can continue!\")\n",
    "\n",
    "handle_semaphore(Semaphore.GREEN)\n",
    "handle_semaphore(Semaphore.RED)\n"
   ]
  }
 ],
 "metadata": {
  "interpreter": {
   "hash": "b394d1a43adc3e2518529b3243a8fd0df6414d90650d36267735f4ed247dd166"
  },
  "kernelspec": {
   "display_name": "Python 3.9.7 64-bit ('base': conda)",
   "language": "python",
   "name": "python3"
  },
  "language_info": {
   "codemirror_mode": {
    "name": "ipython",
    "version": 3
   },
   "file_extension": ".py",
   "mimetype": "text/x-python",
   "name": "python",
   "nbconvert_exporter": "python",
   "pygments_lexer": "ipython3",
   "version": "3.9.7"
  },
  "orig_nbformat": 4
 },
 "nbformat": 4,
 "nbformat_minor": 2
}
